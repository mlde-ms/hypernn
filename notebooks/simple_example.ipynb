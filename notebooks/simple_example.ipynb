{
 "cells": [
  {
   "cell_type": "code",
   "execution_count": 1,
   "id": "5603b56f-324b-4ec7-88db-19d297f40074",
   "metadata": {},
   "outputs": [],
   "source": [
    "from nbconfig import configure_path\n",
    "configure_path()"
   ]
  },
  {
   "cell_type": "code",
   "execution_count": 2,
   "id": "2b8b552b-b18b-474d-8865-63c1048e76f4",
   "metadata": {},
   "outputs": [],
   "source": [
    "import numpy as np\n",
    "from sklearn.metrics import classification_report\n",
    "from src.models.hypernnclassifier import HyperNNClassifier\n",
    "from src.utils import plot_boxes\n",
    "import src.torchsetup as tsetup"
   ]
  },
  {
   "cell_type": "code",
   "execution_count": 3,
   "id": "7fcf1dd6-75fc-44bc-bde3-d62447169b3a",
   "metadata": {},
   "outputs": [],
   "source": [
    "SEED = 5\n",
    "tsetup.set_seeds(SEED)\n",
    "DEVICE = tsetup.set_device(cuda=False)"
   ]
  },
  {
   "cell_type": "code",
   "execution_count": 4,
   "id": "cf56cf95-9166-4465-a180-da231c57d716",
   "metadata": {},
   "outputs": [],
   "source": [
    "X = np.array([[1,1], [3,3], [4,4], [10,10]])\n",
    "y = np.array([1, 0, 1, 0])"
   ]
  },
  {
   "cell_type": "code",
   "execution_count": 5,
   "id": "c06b9a77-0ef8-47ed-8a77-356144a02233",
   "metadata": {},
   "outputs": [],
   "source": [
    "X = (X - np.mean(X)) / np.std(X)"
   ]
  },
  {
   "cell_type": "code",
   "execution_count": 6,
   "id": "963fc31b-3665-4f2f-bada-b0ad1826e1d0",
   "metadata": {},
   "outputs": [],
   "source": [
    "clf = HyperNNClassifier(\n",
    "    nboxes=2,\n",
    "    dim=X.shape[1],\n",
    "    training_epochs=3000,\n",
    "    learning_rate=0.01,\n",
    "    l2_reg=0.0001,\n",
    "    patience_early_stopping=100,\n",
    "    tau=0.5,\n",
    "    alpha=0.5,\n",
    "    alpha_tau_decay_step=10,\n",
    "    verbosity=500,\n",
    "    verbose=True,\n",
    "    device=DEVICE,\n",
    "    random_state=SEED)"
   ]
  },
  {
   "cell_type": "code",
   "execution_count": 7,
   "id": "ce682ffd-78e2-496d-9a49-a640dc5eb376",
   "metadata": {},
   "outputs": [
    {
     "data": {
      "image/png": "[encoded data removed]",
      "text/plain": [
       "<Figure size 432x288 with 1 Axes>"
      ]
     },
     "metadata": {
      "needs_background": "light"
     },
     "output_type": "display_data"
    }
   ],
   "source": [
    "plot_boxes(clf.model, X, y)"
   ]
  },
  {
   "cell_type": "code",
   "execution_count": 8,
   "id": "e390fc98-de9e-4589-aadb-ce7461381fda",
   "metadata": {
    "tags": []
   },
   "outputs": [
    {
     "name": "stdout",
     "output_type": "stream",
     "text": [
      "Epoch:  500\n",
      "Loss:  0.014792111702263355\n",
      "Epoch:  1000\n",
      "Loss:  0.0031199846416711807\n",
      "Epoch:  1500\n",
      "Loss:  0.0027158046141266823\n",
      "Epoch:  2000\n",
      "Loss:  0.002496874425560236\n",
      "Epoch:  2500\n",
      "Loss:  0.0022181919775903225\n",
      "Epoch:  3000\n",
      "Loss:  0.0018703797832131386\n"
     ]
    }
   ],
   "source": [
    "clf.fit(X, y)"
   ]
  },
  {
   "cell_type": "code",
   "execution_count": 9,
   "id": "aa0a0f7e-1b6c-46d3-9081-7e969f1e50b8",
   "metadata": {},
   "outputs": [
    {
     "data": {
      "image/png": "[encoded data removed]",
      "text/plain": [
       "<Figure size 432x288 with 1 Axes>"
      ]
     },
     "metadata": {
      "needs_background": "light"
     },
     "output_type": "display_data"
    }
   ],
   "source": [
    "plot_boxes(clf.model, X, y)"
   ]
  },
  {
   "cell_type": "code",
   "execution_count": 10,
   "id": "2c1bfe12-58db-49cc-b291-4ae5acddd991",
   "metadata": {},
   "outputs": [
    {
     "name": "stdout",
     "output_type": "stream",
     "text": [
      "              precision    recall  f1-score   support\n",
      "\n",
      "           0       1.00      1.00      1.00         2\n",
      "           1       1.00      1.00      1.00         2\n",
      "\n",
      "    accuracy                           1.00         4\n",
      "   macro avg       1.00      1.00      1.00         4\n",
      "weighted avg       1.00      1.00      1.00         4\n",
      "\n"
     ]
    }
   ],
   "source": [
    "y_pred = clf.predict(X)\n",
    "print(classification_report(y, y_pred))"
   ]
  },
  {
   "cell_type": "code",
   "execution_count": 11,
   "id": "a21df35b-967e-46d8-9757-64dfe9d6905b",
   "metadata": {},
   "outputs": [
    {
     "data": {
      "text/plain": [
       "Parameter containing:\n",
       "tensor([[-1.3150, -1.2805],\n",
       "        [-0.3006, -0.3021]], requires_grad=True)"
      ]
     },
     "execution_count": 11,
     "metadata": {},
     "output_type": "execute_result"
    }
   ],
   "source": [
    "clf.model.block.mins"
   ]
  },
  {
   "cell_type": "code",
   "execution_count": 12,
   "id": "6fb1e853-1d0f-428c-94a6-e396972ec087",
   "metadata": {},
   "outputs": [
    {
     "data": {
      "text/plain": [
       "Parameter containing:\n",
       "tensor([[-0.4552,  0.4209],\n",
       "        [-0.3266, -0.3262]], requires_grad=True)"
      ]
     },
     "execution_count": 12,
     "metadata": {},
     "output_type": "execute_result"
    }
   ],
   "source": [
    "clf.model.block.length"
   ]
  },
  {
   "cell_type": "code",
   "execution_count": null,
   "id": "259f1e3c-5ff6-4395-b749-41f088194296",
   "metadata": {},
   "outputs": [],
   "source": []
  }
 ],
 "metadata": {
  "kernelspec": {
   "display_name": "Python 3 (ipykernel)",
   "language": "python",
   "name": "python3"
  },
  "language_info": {
   "codemirror_mode": {
    "name": "ipython",
    "version": 3
   },
   "file_extension": ".py",
   "mimetype": "text/x-python",
   "name": "python",
   "nbconvert_exporter": "python",
   "pygments_lexer": "ipython3",
   "version": "3.8.10"
  }
 },
 "nbformat": 4,
 "nbformat_minor": 5
}
